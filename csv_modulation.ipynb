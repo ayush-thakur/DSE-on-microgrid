{
 "cells": [
  {
   "cell_type": "code",
   "execution_count": null,
   "metadata": {},
   "outputs": [],
   "source": [
    "import pandas as pd\n",
    "\n",
    "\n",
    "for i in range(1,2):\n",
    "    input_file_name=f\"C:/Users/hp/Downloads/V_rms_island.csv\"\n",
    "    ip2=\"C:/Users/hp/Downloads/P_inj_island.csv\"\n",
    "    ip3=\"C:/Users/hp/Downloads/P_flow_island.csv\"\n",
    "    df1 = pd.read_csv(input_file_name,index_col=False)\n",
    "    df2 = pd.read_csv(ip2,index_col=False)\n",
    "    df3 = pd.read_csv(ip3,index_col=False)\n",
    "    merged_columns_df = pd.concat([df1,df2, df3], axis=1)\n",
    "\n",
    "    df4=merged_columns_df[[\n",
    "           'Subsystem #1|CTLs|Vars|Vrms1',\n",
    "           'Subsystem #1|CTLs|Vars|PI3',\n",
    "           'Subsystem #1|CTLs|Vars|PI5',\n",
    "           'Subsystem #1|CTLs|Vars|PI7',\n",
    "           'Subsystem #1|CTLs|Vars|QI3',\n",
    "           'Subsystem #1|CTLs|Vars|QI5',\n",
    "           'Subsystem #1|CTLs|Vars|QI7',\n",
    "           'Subsystem #1|CTLs|Vars|PF12',\n",
    "           'Subsystem #1|CTLs|Vars|PF23',\n",
    "           'Subsystem #1|CTLs|Vars|PF34',\n",
    "           'Subsystem #1|CTLs|Vars|PF37',\n",
    "           'Subsystem #1|CTLs|Vars|PF62',\n",
    "           'Subsystem #1|CTLs|Vars|PF65',\n",
    "           'Subsystem #1|CTLs|Vars|PF76',\n",
    "           'Subsystem #1|CTLs|Vars|QF12',\n",
    "           'Subsystem #1|CTLs|Vars|QF23',\n",
    "           'Subsystem #1|CTLs|Vars|QF34',\n",
    "           'Subsystem #1|CTLs|Vars|QF37',\n",
    "           'Subsystem #1|CTLs|Vars|QF62',\n",
    "           'Subsystem #1|CTLs|Vars|QF65',\n",
    "           'Subsystem #1|CTLs|Vars|QF76',\n",
    "    ]]\n",
    "\n",
    "\n",
    "    \n",
    "  \n",
    "    output_file_name = f\"Data/newly_island_modified.csv\"\n",
    "    df4.to_csv(output_file_name,index=False)"
   ]
  },
  {
   "cell_type": "code",
   "execution_count": 9,
   "metadata": {},
   "outputs": [],
   "source": [
    "import pandas as pd\n",
    "\n",
    "\n",
    "for i in range(1,2):\n",
    "    input_file_name=f\"C:/Users/hp/Downloads/Vrms_gc_fault3_newmodel.csv\"\n",
    "    ip2=\"C:/Users/hp/Downloads/Pinjection_gc_fault3_newmodel.csv\"\n",
    "    ip3=\"C:/Users/hp/Downloads/Pflow_gc_fault3_newmodel.csv\"\n",
    "    df1 = pd.read_csv(input_file_name,index_col=False)\n",
    "    df2 = pd.read_csv(ip2,index_col=False)\n",
    "    df3 = pd.read_csv(ip3,index_col=False)\n",
    "    merged_columns_df = pd.concat([df1,df2, df3], axis=1)\n",
    "\n",
    "    df4=merged_columns_df[[\n",
    "           'Subsystem #1|CTLs|Vars|Vrms1',\n",
    "           'Subsystem #1|CTLs|Vars|PI3',\n",
    "           'Subsystem #1|CTLs|Vars|PI5',\n",
    "           'Subsystem #1|CTLs|Vars|PI7',\n",
    "           'Subsystem #1|CTLs|Vars|QI3',\n",
    "           'Subsystem #1|CTLs|Vars|QI5',\n",
    "           'Subsystem #1|CTLs|Vars|QI7',\n",
    "           'Subsystem #1|CTLs|Vars|PF12',\n",
    "           'Subsystem #1|CTLs|Vars|PF23',\n",
    "           'Subsystem #1|CTLs|Vars|PF34',\n",
    "           'Subsystem #1|CTLs|Vars|PF37a',\n",
    "           'Subsystem #1|CTLs|Vars|PF62',\n",
    "           'Subsystem #1|CTLs|Vars|PF65',\n",
    "           'Subsystem #1|CTLs|Vars|PF76',\n",
    "           'Subsystem #1|CTLs|Vars|QF12',\n",
    "           'Subsystem #1|CTLs|Vars|QF23',\n",
    "           'Subsystem #1|CTLs|Vars|QF34',\n",
    "           'Subsystem #1|CTLs|Vars|QF37a',\n",
    "           'Subsystem #1|CTLs|Vars|QF62',\n",
    "           'Subsystem #1|CTLs|Vars|QF65',\n",
    "           'Subsystem #1|CTLs|Vars|QF76',\n",
    "    ]]\n",
    "\n",
    "\n",
    "    \n",
    "  \n",
    "    output_file_name = f\"Data/_gc_fault3_newmodel_modified.csv\"\n",
    "    df4.to_csv(output_file_name,index=False)"
   ]
  },
  {
   "cell_type": "code",
   "execution_count": 10,
   "metadata": {},
   "outputs": [
    {
     "name": "stderr",
     "output_type": "stream",
     "text": [
      "C:\\Users\\hp\\AppData\\Local\\Temp\\ipykernel_12224\\2120052549.py:12: SettingWithCopyWarning: \n",
      "A value is trying to be set on a copy of a slice from a DataFrame\n",
      "\n",
      "See the caveats in the documentation: https://pandas.pydata.org/pandas-docs/stable/user_guide/indexing.html#returning-a-view-versus-a-copy\n",
      "  df4.rename(columns={'Subsystem #1|CTLs|Vars|Vrms1': 'Subsystem #1|CTLs|Vars|Vrms1',\n"
     ]
    }
   ],
   "source": [
    "import pandas as pd\n",
    "input_file_name=f\"C:/Users/hp/Downloads/Vrms_gc_fault3_newmodel.csv\"\n",
    "df1 = pd.read_csv(input_file_name,index_col=False)\n",
    "df4=df1[[\n",
    "        'Subsystem #1|CTLs|Vars|Vrms1',\n",
    "        'Subsystem #1|CTLs|Vars|Vrms4',\n",
    "        'Subsystem #1|CTLs|Vars|Vrms7',\n",
    "        'Subsystem #1|CTLs|Vars|Vrms10',\n",
    "        'Subsystem #1|CTLs|Vars|Vrms16',\n",
    "        'Subsystem #1|CTLs|Vars|Vrms19'\n",
    "]]\n",
    "df4.rename(columns={'Subsystem #1|CTLs|Vars|Vrms1': 'Subsystem #1|CTLs|Vars|Vrms1',\n",
    "                    'Subsystem #1|CTLs|Vars|Vrms4': 'Subsystem #1|CTLs|Vars|Vrms2',\n",
    "                    'Subsystem #1|CTLs|Vars|Vrms7': 'Subsystem #1|CTLs|Vars|Vrms3',\n",
    "                    'Subsystem #1|CTLs|Vars|Vrms10': 'Subsystem #1|CTLs|Vars|Vrms4',\n",
    "                    'Subsystem #1|CTLs|Vars|Vrms16': 'Subsystem #1|CTLs|Vars|Vrms6',\n",
    "                    'Subsystem #1|CTLs|Vars|Vrms19': 'Subsystem #1|CTLs|Vars|Vrms7',}, inplace=True)\n",
    "\n",
    "output_file_name = f\"Data/Vrms_gc_fault3_newmodel_modified.csv\"\n",
    "df4.to_csv(output_file_name,index=False)\n"
   ]
  },
  {
   "cell_type": "code",
   "execution_count": null,
   "metadata": {},
   "outputs": [],
   "source": [
    "df4"
   ]
  },
  {
   "cell_type": "code",
   "execution_count": null,
   "metadata": {},
   "outputs": [],
   "source": []
  }
 ],
 "metadata": {
  "kernelspec": {
   "display_name": "base",
   "language": "python",
   "name": "python3"
  },
  "language_info": {
   "codemirror_mode": {
    "name": "ipython",
    "version": 3
   },
   "file_extension": ".py",
   "mimetype": "text/x-python",
   "name": "python",
   "nbconvert_exporter": "python",
   "pygments_lexer": "ipython3",
   "version": "3.11.5"
  }
 },
 "nbformat": 4,
 "nbformat_minor": 2
}
