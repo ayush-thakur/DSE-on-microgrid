{
 "cells": [
  {
   "cell_type": "code",
   "execution_count": 6,
   "metadata": {},
   "outputs": [],
   "source": [
    "import pandas as pd\n",
    "\n",
    "\n",
    "for i in range(1,2):\n",
    "    input_file_name=f\"Data/Voltage_rms_new.csv\"\n",
    "    ip2=\"Data/P_inj_new.csv\"\n",
    "    ip3=\"Data/P_flow_new.csv\"\n",
    "    df1 = pd.read_csv(input_file_name,index_col=False)\n",
    "    df2 = pd.read_csv(ip2,index_col=False)\n",
    "    df3 = pd.read_csv(ip3,index_col=False)\n",
    "    merged_columns_df = pd.concat([df1,df2, df3], axis=1)\n",
    "\n",
    "    df4=merged_columns_df[[\n",
    "           'Subsystem #1|CTLs|Vars|Vrms1',\n",
    "           'Subsystem #1|CTLs|Vars|PI3',\n",
    "           'Subsystem #1|CTLs|Vars|PI5',\n",
    "           'Subsystem #1|CTLs|Vars|PI7',\n",
    "           'Subsystem #1|CTLs|Vars|QI3',\n",
    "           'Subsystem #1|CTLs|Vars|QI5',\n",
    "           'Subsystem #1|CTLs|Vars|QI7',\n",
    "           'Subsystem #1|CTLs|Vars|PF12',\n",
    "           'Subsystem #1|CTLs|Vars|PF23',\n",
    "           'Subsystem #1|CTLs|Vars|PF34',\n",
    "           'Subsystem #1|CTLs|Vars|PF37',\n",
    "           'Subsystem #1|CTLs|Vars|PF62',\n",
    "           'Subsystem #1|CTLs|Vars|PF65',\n",
    "           'Subsystem #1|CTLs|Vars|PF76',\n",
    "           'Subsystem #1|CTLs|Vars|QF12',\n",
    "           'Subsystem #1|CTLs|Vars|QF23',\n",
    "           'Subsystem #1|CTLs|Vars|QF34',\n",
    "           'Subsystem #1|CTLs|Vars|QF37',\n",
    "           'Subsystem #1|CTLs|Vars|QF62',\n",
    "           'Subsystem #1|CTLs|Vars|QF65',\n",
    "           'Subsystem #1|CTLs|Vars|QF76',\n",
    "    ]]\n",
    "\n",
    "\n",
    "    \n",
    "  \n",
    "    output_file_name = f\"Data/newly_modified.csv\"\n",
    "    df4.to_csv(output_file_name,index=False)"
   ]
  }
 ],
 "metadata": {
  "kernelspec": {
   "display_name": "base",
   "language": "python",
   "name": "python3"
  },
  "language_info": {
   "codemirror_mode": {
    "name": "ipython",
    "version": 3
   },
   "file_extension": ".py",
   "mimetype": "text/x-python",
   "name": "python",
   "nbconvert_exporter": "python",
   "pygments_lexer": "ipython3",
   "version": "3.11.5"
  }
 },
 "nbformat": 4,
 "nbformat_minor": 2
}
